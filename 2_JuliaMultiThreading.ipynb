{
 "cells": [
  {
   "cell_type": "markdown",
   "metadata": {},
   "source": [
    "# Julia Multi-Threading\n",
    "\n",
    "In this notebook we are going to start using Julia's multi-threading\n",
    "capabiilities to parallelize some basic filesystem operations.  It is assumed\n",
    "that you have read and executed the [previous notebook](\n",
    "1_HardwareResourcesJuliaThreads.ipynb) and have figured out how to have Jupyter\n",
    "run the Julia notebook kernels with multiple threads (i.e. such that\n",
    "`Threads.nthreads()` returns a number greater than 1).\n",
    "\n",
    "Modern CPU chips tend to have multiple cores with multiple *hardware threads*\n",
    "per core.  As you might expect, different types of CPU chips have different\n",
    "numbers of cores as well as different numbers of hardware threads per core (and\n",
    "correspondinly different price and power costs!).  From a software perspective\n",
    "however, we don't really care how the available hardware resouces came to be.\n",
    "In fact, we don't have to know how many CPU threads or Julia threads are\n",
    "available when parallelizing our code, though having this knowledge can help us\n",
    "choose how mamy Julia threads to create to more closely match the limits of the\n",
    "hardware's thread and memory capacities.\n",
    "\n",
    "You are encouraged to run this notebook multiple times with various numbers of\n",
    "Julia threads.\n",
    "\n",
    "## Compute heavy vs I/O heavy\n",
    "\n",
    "The optimal number of Julia threads to use for a given number of CPU threads\n",
    "depends on the nature of the code.\n",
    "Code that is *compute heavy* (i.e. with few system calls that may `sleep`) may\n",
    "not benefit from extra worker threads beyond the number of CPU threads since\n",
    "each Julia thread The two main categories of code are I/O heavy vs computw\n",
    "heavy.\n",
    "\n"
   ]
  }
 ],
 "metadata": {
  "kernelspec": {
   "display_name": "Julia 1.10.4",
   "language": "julia",
   "name": "julia-1.10"
  },
  "language_info": {
   "file_extension": ".jl",
   "mimetype": "application/julia",
   "name": "julia",
   "version": "1.10.4"
  }
 },
 "nbformat": 4,
 "nbformat_minor": 2
}
