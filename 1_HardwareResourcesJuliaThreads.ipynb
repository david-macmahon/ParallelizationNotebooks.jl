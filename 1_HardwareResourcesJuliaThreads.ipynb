{
 "cells": [
  {
   "cell_type": "markdown",
   "metadata": {},
   "source": [
    "# Hardware resources and Julia threads\n",
    "\n",
    "## Hardware resources\n",
    "\n",
    "When parallelizing your code it is important to know what hardware resources are\n",
    "available so you can parallelize accordingly.  Two of the most important\n",
    "resources in this context are: the total number of CPUs and the total amount of\n",
    "memory.  This notebook covers these topics and serves as a prerequisite for the\n",
    "other notebooks.\n",
    "\n",
    "### CPU count\n",
    "\n",
    "The number of CPUs can be far higher than the number of physical CPU\n",
    "chips that the computer has.  Modern CPU chips typically contain multiple *CPU\n",
    "cores* on their silicon die.  On top of that, many CPU cores also support\n",
    "*simultaneous multithreading* (SMT) which, as the name implies, allows a single\n",
    "CPU core to process multiple (typically two) threads of execution\n",
    "simultaneously.\n",
    "\n",
    "Julia provides the total number of CPUs available in `Sys.CPU_THREADS`.\n",
    "Executing the cell below will show how many CPUs are available on your system."
   ]
  },
  {
   "cell_type": "code",
   "execution_count": 1,
   "metadata": {},
   "outputs": [
    {
     "data": {
      "text/plain": [
       "32"
      ]
     },
     "metadata": {},
     "output_type": "display_data"
    }
   ],
   "source": [
    "Sys.CPU_THREADS"
   ]
  },
  {
   "cell_type": "markdown",
   "metadata": {},
   "source": [
    "### Total memory\n",
    "\n",
    "Code running in parallel often require additional memory (e.g. when loading\n",
    "multiple data files in parallel).  It is important to be aware of the total\n",
    "memory available on the system to avoid out-of-memory problems.  These can\n",
    "manifest as `OutOfMemoryError`s in Julia or process crashes or an extreme slow\n",
    "down if the system starts using swap space.  Knowing the total amount of\n",
    "available memory is only part of the picture.  You also need to know/understand\n",
    "the memory requirements of your code so that you can avoid over-parallelizing.\n",
    "For example, if each parallel path requires `X GiB` of memory and the system has\n",
    "`NX GiB` of memory, you will likely run into problems if you run `>N` parallel\n",
    "paths because then the total memory requirement will exceed the system's memory.\n",
    "\n",
    "Julia provides `Sys.total_memory()` to obtain the total memory available to the\n",
    "process.  Note that this may differ from the physical memory of the system due\n",
    "to constraints imposed by the system administrators.  Julia also provides\n",
    "`Sys.total_physical_memory` to obtain the total unconstrained size of the\n",
    "system's memory. Executing the cell below will show how both of these values\n",
    "for your system.  Because these functions return a large value, we use Julia's\n",
    "`Base.format_bytes` function to display a more human friendly representation."
   ]
  },
  {
   "cell_type": "code",
   "execution_count": 2,
   "metadata": {},
   "outputs": [
    {
     "data": {
      "text/plain": [
       "(\"503.661 GiB\", \"503.661 GiB\")"
      ]
     },
     "metadata": {},
     "output_type": "display_data"
    }
   ],
   "source": [
    "Base.format_bytes(Sys.total_memory()), Base.format_bytes(Sys.total_physical_memory())"
   ]
  },
  {
   "cell_type": "markdown",
   "metadata": {},
   "source": [
    "## Julia threads\n",
    "\n",
    "### Thread count\n",
    "\n",
    "Julia creates its threads at startup.  By default, Julia v1.10 and earlier only\n",
    "create a single thread at startup.  Threads cannot be added at runtime, so to\n",
    "use multiple threads you have to tell Julia at startup time how many threads you\n",
    "want to have available using either the `JULIA_NUM_THREADS` environment variable\n",
    "or the `--threads` (or its `-t` equivalent) command line option.  The latter\n",
    "overrides the former.  The number of threads may be given as an integer or, on\n",
    "modern versions of Julia, the word `auto` which will create `Sys.CPU_THREADS`\n",
    "threads.\n",
    "\n",
    "When running a Julia notebook, the Julia process is a notebook kernel which is\n",
    "usually not started from the command line.  In this case you will have to find\n",
    "out how command line options can be specified for your Jupyter environment.  For\n",
    "example, you may be able to setup a user kernelspec.  If running the notebook\n",
    "using Visual Studio Code with the Julia extension, you can specify the\n",
    "`NumTreads` value in the Julia extension settings.\n",
    "\n",
    "The total number of Julia threads can be obtained by calling\n",
    "`Threads.nthreads()`.  Executing the cell below will show this value.  If you\n",
    "see `1` then your notebook's kernel is running with just a single thread and the\n",
    "multi-threading code presented in future notebooks will only run on that single\n",
    "thread, which is not what we want for parallelization!  If you see `1`, please\n",
    "reconfigure Jupyter to start your kernel with multiple threads."
   ]
  },
  {
   "cell_type": "code",
   "execution_count": 3,
   "metadata": {},
   "outputs": [
    {
     "data": {
      "text/plain": [
       "32"
      ]
     },
     "metadata": {},
     "output_type": "display_data"
    }
   ],
   "source": [
    "Threads.nthreads()"
   ]
  },
  {
   "cell_type": "markdown",
   "metadata": {},
   "source": [
    "### Utilizing threads\n",
    "\n",
    "The threads that Julia creates are general purpose worker threads available for\n",
    "our use.  Some packages (e.g. `BLAS` and `FFTW`) use libraries that can create\n",
    "threads internally, independent from the Julia threads.  These threads remain\n",
    "self-contained in the library that manages them.  These notebooks don't use such\n",
    "pacakges, but if your project does then you may want to be cognizant of their\n",
    "thread usage when planning how many Julia worker threads to use.\n",
    "\n",
    "We can use the worker threads that Julia creates at startup to parallelize our\n",
    "code, but this does not happen automatically by merely having the threads.  We\n",
    "have control over and must specify where and how we utilize these threads.  This\n",
    "topic is covered in the next notebook."
   ]
  },
  {
   "cell_type": "markdown",
   "metadata": {},
   "source": [
    "## Parting thoughts\n",
    "\n",
    "Now that we know how to get the total memory and number of threads available to\n",
    "our Julia process, we can compute how much memory each thread can use on average\n",
    "and still fit into system memory, ignoring for now the memory requirements of\n",
    "system processes or (gasp!) other users."
   ]
  },
  {
   "cell_type": "code",
   "execution_count": 4,
   "metadata": {},
   "outputs": [
    {
     "data": {
      "text/plain": [
       "\"15.739 GiB\""
      ]
     },
     "metadata": {},
     "output_type": "display_data"
    }
   ],
   "source": [
    "# Compute maximum memory per thread (ignoring overheads)\n",
    "Base.format_bytes(Sys.total_memory() / Threads.nthreads())"
   ]
  },
  {
   "cell_type": "markdown",
   "metadata": {},
   "source": [
    "You are now ready to enjoy the next notebook!"
   ]
  }
 ],
 "metadata": {
  "kernelspec": {
   "display_name": "Julia 1.10.4",
   "language": "julia",
   "name": "julia-1.10"
  },
  "language_info": {
   "file_extension": ".jl",
   "mimetype": "application/julia",
   "name": "julia",
   "version": "1.10.4"
  }
 },
 "nbformat": 4,
 "nbformat_minor": 2
}
